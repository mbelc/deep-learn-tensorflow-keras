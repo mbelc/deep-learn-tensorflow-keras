{
 "cells": [
  {
   "cell_type": "markdown",
   "metadata": {
    "colab_type": "text",
    "id": "gqfXHGnDlVUE"
   },
   "source": [
    
    "# References\n",
    "\n",
    "Credit: codes developed in this project inspired by the following references:\n",
    "\n",
    "\\[2\\] https://www.tensorflow.org/tutorials/keras/classification\n",
    "\n",
    "\\[3\\] https://medium.com/analytics-vidhya/artificial-neural-network-ann-with-keras-simplified-use-case-if-student-pass-the-exam-code-949ddb2a9c91\n",
    "\n",
    "\\[4\\] https://machinelearningmastery.com/use-keras-deep-learning-models-scikit-learn-python/"
   ]
  },
  {
   "cell_type": "markdown",
   "metadata": {
    "colab_type": "text",
    "id": "FbVhjPpzn6BM"
   },
   "source": [
    "# Packages\n",
    "\n",
    "This tutorial uses [tensorflow.keras](https://www.tensorflow.org/guide/keras), a high-level API to build and train neural networks (NN). The developed NN is used to classify images of handwritten digits from 0 to 9 in the MNIST dataset. The required packages are imported below:"
   ]
  },
  {
   "cell_type": "code",
   "execution_count": 0,
   "metadata": {
    "colab": {},
    "colab_type": "code",
    "id": "dzLKpmZICaWN"
   },
   "outputs": [],
   "source": [
    "# pyplot to plot figures\n",
    "import matplotlib.pyplot as plt\n",
    "# numpy for algebraic operations on arrays\n",
    "import numpy as np\n",
    "# tensorflow API as tf\n",
    "import tensorflow as tf\n",
    "# tf.keras API for NN\n",
    "from tensorflow import keras\n",
    "# plot_model to visualize the built NN\n",
    "from tensorflow.keras.utils import plot_model\n",
    "# KerasClassifier to construct a NN model\n",
    "from tensorflow.keras.wrappers.scikit_learn import KerasClassifier\n",
    "# cross_val_score to evaluate NN model accuracy\n",
    "# GridSearchCV to fine-tune NN model from a list of parameters\n",
    "from sklearn.model_selection import cross_val_score, GridSearchCV\n"
   ]
  },
  {
   "cell_type": "markdown",
   "metadata": {
    "colab_type": "text",
    "id": "ElvmxvtA_Ivv"
   },
   "source": [
    "# Test 1: Loading data"
   ]
  },
  {
   "cell_type": "markdown",
   "metadata": {
    "colab_type": "text",
    "id": "DLdCchMdCaWQ"
   },
   "source": [
    "This tutorial uses the [MNIST](http://yann.lecun.com/exdb/mnist/) dataset, which fits multiple regression and classification techniques. The dataset contains images of handwritten digits \\{0, 1, 2, ..., 9\\}, each in a format of 28 by 28 pixels, with pixel values ranging from 0 to 255. The dataset also contains a label for each image; the label is an integer in \\{0,1,2,...,9\\}. The dataset contains 60,000 training images and 10,000 testing images of individual digits labeled according to 10 classes of labels \\{0, 1, 2, ..., 9\\}. The training images and labels allow training a neural network (NN) and the testing images and labels allow evaluating the network's accuracy in classifying previously unseen images. To import and load the MNIST dataset so it can be used in `tf.keras`, function `load_data` is used to load the dataset directly from `TensorFlow`, which returns 4 `NumPy` arrays: `X_train` images with `y_train` labels for the training set, and `X_test` images with `y_test` labels for the testing set. The dimension of these arrays are confirmed by the below code snippets, which show 60,000 elements in `X_train` (and `y_train`), and 10,000 in `X_test` (and `y_test`). The pixel values are scaled down from \\[0,255\\] range to the standardized \\[0,1\\] range, which is done by dividing over the max value of 255. An image of a digit before and after scaling is shown below to confirm the data was scaled.\n",
    "\n",
    "K-fold cross-validation (CV) is used to test a regression or classification algorithm properly, and consists in splitting the training dataset into K-folds, training on K-1 of them and validating on the remaining fold, and switching the validation fold K times. The resulting mean error is a less-biased metric of the performance of the algorithm on the training dataset. To create cross-validation folds, a method from sklearn called `sklearn.model_selection.cross_val_score` is used to split the dataset, call the neural network constructor by argument `estimator`, specify the desired number of folds by argument `cv`, specify the training data and labels by arguments `X` and `y`, and finally perform cross-validation. Note that full descriptions of the neural network object `neurnet_classifier` and Keras constructor `KerasClassifier` will be discussed in the upcoming sections, as this section solely focuses on how to perform cross validation. The K-fold cross validation choose a number of folds `cv` equal to 5, which results in an accuracy for each run of the cross validation and a mean accuracy for the total cross validation such as shown by the below code."
   ]
  },
  {
   "cell_type": "code",
   "execution_count": 2,
   "metadata": {
    "colab": {
     "base_uri": "https://localhost:8080/",
     "height": 54
    },
    "colab_type": "code",
    "executionInfo": {
     "elapsed": 3308,
     "status": "ok",
     "timestamp": 1585957532368,
     "user": {
      "displayName": "Mohamed Ait Mhamed Belcaid",
      "photoUrl": "https://lh3.googleusercontent.com/a-/AOh14Gj3YniscJ4BUeKN4EKFcU5pm_IUZqkpUZDbGlgINA=s64",
      "userId": "01130297007541980381"
     },
     "user_tz": 240
    },
    "id": "7MqDQO0KCaWS",
    "outputId": "34bb99f1-6bd6-486d-d2d9-2560dc56a0b0"
   },
   "outputs": [
    {
     "name": "stdout",
     "output_type": "stream",
     "text": [
      "Downloading data from https://storage.googleapis.com/tensorflow/tf-keras-datasets/mnist.npz\n",
      "11493376/11490434 [==============================] - 0s 0us/step\n"
     ]
    }
   ],
   "source": [
    "# import mnist dataset from tf.keras\n",
    "data = keras.datasets.mnist\n",
    "# load mnist dataset into separate training images/labels and testing images/labels\n",
    "(X_train,y_train),(X_test,y_test) = data.load_data()\n",
    "# list the classes of labels, i.e. digits 0,1,2,3,4,5,6,7,8,9\n",
    "classes = range(10)"
   ]
  },
  {
   "cell_type": "code",
   "execution_count": 3,
   "metadata": {
    "colab": {
     "base_uri": "https://localhost:8080/",
     "height": 91
    },
    "colab_type": "code",
    "executionInfo": {
     "elapsed": 3301,
     "status": "ok",
     "timestamp": 1585957532368,
     "user": {
      "displayName": "Mohamed Ait Mhamed Belcaid",
      "photoUrl": "https://lh3.googleusercontent.com/a-/AOh14Gj3YniscJ4BUeKN4EKFcU5pm_IUZqkpUZDbGlgINA=s64",
      "userId": "01130297007541980381"
     },
     "user_tz": 240
    },
    "id": "zW5k_xz1CaWX",
    "outputId": "7f99ac87-7700-449b-c464-38f3df9a4d1a"
   },
   "outputs": [
    {
     "name": "stdout",
     "output_type": "stream",
     "text": [
      "X_train dimensions: (60000, 28, 28)\n",
      "y_train elements: 60000\n",
      "X_test dimensions: (10000, 28, 28)\n",
      "y_test elements 10000\n"
     ]
    }
   ],
   "source": [
    "# check the dimensions of each array:\n",
    "# X_train: 60,000 images, each represented as 28 x 28 pixels\n",
    "print('X_train dimensions:', X_train.shape)\n",
    "# y_train: 60,000 labels\n",
    "print('y_train elements:', len(y_train))\n",
    "# X_test: 10,000 images, each represented as 28 x 28 pixels\n",
    "print('X_test dimensions:', X_test.shape)\n",
    "# y_test: 60,000 labels\n",
    "print('y_test elements:', len(y_test))\n"
   ]
  },
  {
   "cell_type": "code",
   "execution_count": 4,
   "metadata": {
    "colab": {
     "base_uri": "https://localhost:8080/",
     "height": 265
    },
    "colab_type": "code",
    "executionInfo": {
     "elapsed": 3295,
     "status": "ok",
     "timestamp": 1585957532368,
     "user": {
      "displayName": "Mohamed Ait Mhamed Belcaid",
      "photoUrl": "https://lh3.googleusercontent.com/a-/AOh14Gj3YniscJ4BUeKN4EKFcU5pm_IUZqkpUZDbGlgINA=s64",
      "userId": "01130297007541980381"
     },
     "user_tz": 240
    },
    "id": "m4VEw8Ud9Quh",
    "outputId": "d0d7d496-dd97-4daf-8fcc-9733db69006a"
   },
   "outputs": [
    {
     "data": {
      "image/png": "[encoded data removed]",
      "text/plain": [
       "<Figure size 432x288 with 2 Axes>"
      ]
     },
     "metadata": {
      "tags": []
     },
     "output_type": "display_data"
    }
   ],
   "source": [
    "# plot a single image from X_train\n",
    "# note that pixel values on the plot range from 0 to 255\n",
    "plt.figure()\n",
    "plt.imshow(X_train[2])\n",
    "plt.colorbar()\n",
    "plt.grid(False)\n",
    "plt.show()"
   ]
  },
  {
   "cell_type": "code",
   "execution_count": 0,
   "metadata": {
    "colab": {},
    "colab_type": "code",
    "id": "bW5WzIPlCaWv"
   },
   "outputs": [],
   "source": [
    "# scale data to [0,1] intervals by dividing each pixel value over 255\n",
    "X_train = (1.0/255.0) * X_train\n",
    "X_test  = (1.0/255.0) * X_test"
   ]
  },
  {
   "cell_type": "code",
   "execution_count": 6,
   "metadata": {
    "colab": {
     "base_uri": "https://localhost:8080/",
     "height": 269
    },
    "colab_type": "code",
    "executionInfo": {
     "elapsed": 3288,
     "status": "ok",
     "timestamp": 1585957532370,
     "user": {
      "displayName": "Mohamed Ait Mhamed Belcaid",
      "photoUrl": "https://lh3.googleusercontent.com/a-/AOh14Gj3YniscJ4BUeKN4EKFcU5pm_IUZqkpUZDbGlgINA=s64",
      "userId": "01130297007541980381"
     },
     "user_tz": 240
    },
    "id": "oZTImqg_CaW1",
    "outputId": "815a9e2c-6994-4b6b-924d-3f5b313dcb74"
   },
   "outputs": [
    {
     "data": {
      "image/png": "[encoded data removed]",
      "text/plain": [
       "<Figure size 432x288 with 2 Axes>"
      ]
     },
     "metadata": {
      "tags": []
     },
     "output_type": "display_data"
    }
   ],
   "source": [
    "# plot a single image from X_train\n",
    "# note that pixel values on the plot now range from 0 to 1\n",
    "plt.figure()\n",
    "plt.imshow(X_train[2])\n",
    "plt.colorbar()\n",
    "plt.grid(False)\n",
    "plt.show()"
   ]
  },
  {
   "cell_type": "code",
   "execution_count": 7,
   "metadata": {
    "colab": {
     "base_uri": "https://localhost:8080/",
     "height": 1000
    },
    "colab_type": "code",
    "executionInfo": {
     "elapsed": 23047,
     "status": "ok",
     "timestamp": 1585957552134,
     "user": {
      "displayName": "Mohamed Ait Mhamed Belcaid",
      "photoUrl": "https://lh3.googleusercontent.com/a-/AOh14Gj3YniscJ4BUeKN4EKFcU5pm_IUZqkpUZDbGlgINA=s64",
      "userId": "01130297007541980381"
     },
     "user_tz": 240
    },
    "id": "lRdP69trPzgg",
    "outputId": "1ef21b7b-b317-4304-960d-3c096fc855c6"
   },
   "outputs": [
    {
     "name": "stdout",
     "output_type": "stream",
     "text": [
      "Epoch 1/10\n",
      "48/48 [==============================] - 0s 3ms/step - loss: 1.8650 - acc: 0.7423\n",
      "Epoch 2/10\n",
      "48/48 [==============================] - 0s 3ms/step - loss: 1.6267 - acc: 0.8832\n",
      "Epoch 3/10\n",
      "48/48 [==============================] - 0s 3ms/step - loss: 1.5878 - acc: 0.9018\n",
      "Epoch 4/10\n",
      "48/48 [==============================] - 0s 3ms/step - loss: 1.5690 - acc: 0.9115\n",
      "Epoch 5/10\n",
      "48/48 [==============================] - 0s 3ms/step - loss: 1.5569 - acc: 0.9173\n",
      "Epoch 6/10\n",
      "48/48 [==============================] - 0s 3ms/step - loss: 1.5477 - acc: 0.9236\n",
      "Epoch 7/10\n",
      "48/48 [==============================] - 0s 3ms/step - loss: 1.5407 - acc: 0.9287\n",
      "Epoch 8/10\n",
      "48/48 [==============================] - 0s 3ms/step - loss: 1.5349 - acc: 0.9325\n",
      "Epoch 9/10\n",
      "48/48 [==============================] - 0s 3ms/step - loss: 1.5300 - acc: 0.9361\n",
      "Epoch 10/10\n",
      "48/48 [==============================] - 0s 3ms/step - loss: 1.5258 - acc: 0.9392\n",
      "12/12 [==============================] - 0s 3ms/step - loss: 1.5255 - acc: 0.9414\n",
      "Epoch 1/10\n",
      "48/48 [==============================] - 0s 4ms/step - loss: 1.8605 - acc: 0.7419\n",
      "Epoch 2/10\n",
      "48/48 [==============================] - 0s 3ms/step - loss: 1.6307 - acc: 0.8785\n",
      "Epoch 3/10\n",
      "48/48 [==============================] - 0s 3ms/step - loss: 1.5890 - acc: 0.9010\n",
      "Epoch 4/10\n",
      "48/48 [==============================] - 0s 3ms/step - loss: 1.5690 - acc: 0.9107\n",
      "Epoch 5/10\n",
      "48/48 [==============================] - 0s 3ms/step - loss: 1.5561 - acc: 0.9181\n",
      "Epoch 6/10\n",
      "48/48 [==============================] - 0s 3ms/step - loss: 1.5467 - acc: 0.9245\n",
      "Epoch 7/10\n",
      "48/48 [==============================] - 0s 4ms/step - loss: 1.5394 - acc: 0.9287\n",
      "Epoch 8/10\n",
      "48/48 [==============================] - 0s 3ms/step - loss: 1.5337 - acc: 0.9329\n",
      "Epoch 9/10\n",
      "48/48 [==============================] - 0s 3ms/step - loss: 1.5289 - acc: 0.9377\n",
      "Epoch 10/10\n",
      "48/48 [==============================] - 0s 3ms/step - loss: 1.5250 - acc: 0.9406\n",
      "12/12 [==============================] - 0s 3ms/step - loss: 1.5310 - acc: 0.9353\n",
      "Epoch 1/10\n",
      "48/48 [==============================] - 0s 3ms/step - loss: 1.8429 - acc: 0.7549\n",
      "Epoch 2/10\n",
      "48/48 [==============================] - 0s 3ms/step - loss: 1.6239 - acc: 0.8825\n",
      "Epoch 3/10\n",
      "48/48 [==============================] - 0s 4ms/step - loss: 1.5862 - acc: 0.9035\n",
      "Epoch 4/10\n",
      "48/48 [==============================] - 0s 3ms/step - loss: 1.5668 - acc: 0.9138\n",
      "Epoch 5/10\n",
      "48/48 [==============================] - 0s 3ms/step - loss: 1.5539 - acc: 0.9224\n",
      "Epoch 6/10\n",
      "48/48 [==============================] - 0s 3ms/step - loss: 1.5446 - acc: 0.9278\n",
      "Epoch 7/10\n",
      "48/48 [==============================] - 0s 3ms/step - loss: 1.5376 - acc: 0.9320\n",
      "Epoch 8/10\n",
      "48/48 [==============================] - 0s 3ms/step - loss: 1.5320 - acc: 0.9358\n",
      "Epoch 9/10\n",
      "48/48 [==============================] - 0s 4ms/step - loss: 1.5274 - acc: 0.9397\n",
      "Epoch 10/10\n",
      "48/48 [==============================] - 0s 3ms/step - loss: 1.5235 - acc: 0.9426\n",
      "12/12 [==============================] - 0s 3ms/step - loss: 1.5284 - acc: 0.9363\n",
      "Epoch 1/10\n",
      "48/48 [==============================] - 0s 3ms/step - loss: 1.8713 - acc: 0.7221\n",
      "Epoch 2/10\n",
      "48/48 [==============================] - 0s 3ms/step - loss: 1.6284 - acc: 0.8766\n",
      "Epoch 3/10\n",
      "48/48 [==============================] - 0s 3ms/step - loss: 1.5884 - acc: 0.9012\n",
      "Epoch 4/10\n",
      "48/48 [==============================] - 0s 3ms/step - loss: 1.5687 - acc: 0.9129\n",
      "Epoch 5/10\n",
      "48/48 [==============================] - 0s 3ms/step - loss: 1.5562 - acc: 0.9209\n",
      "Epoch 6/10\n",
      "48/48 [==============================] - 0s 3ms/step - loss: 1.5469 - acc: 0.9262\n",
      "Epoch 7/10\n",
      "48/48 [==============================] - 0s 3ms/step - loss: 1.5398 - acc: 0.9313\n",
      "Epoch 8/10\n",
      "48/48 [==============================] - 0s 3ms/step - loss: 1.5341 - acc: 0.9351\n",
      "Epoch 9/10\n",
      "48/48 [==============================] - 0s 3ms/step - loss: 1.5293 - acc: 0.9382\n",
      "Epoch 10/10\n",
      "48/48 [==============================] - 0s 3ms/step - loss: 1.5253 - acc: 0.9413\n",
      "12/12 [==============================] - 0s 3ms/step - loss: 1.5334 - acc: 0.9313\n",
      "Epoch 1/10\n",
      "48/48 [==============================] - 0s 3ms/step - loss: 1.8693 - acc: 0.7477\n",
      "Epoch 2/10\n",
      "48/48 [==============================] - 0s 3ms/step - loss: 1.6291 - acc: 0.8794\n",
      "Epoch 3/10\n",
      "48/48 [==============================] - 0s 3ms/step - loss: 1.5877 - acc: 0.9017\n",
      "Epoch 4/10\n",
      "48/48 [==============================] - 0s 3ms/step - loss: 1.5675 - acc: 0.9127\n",
      "Epoch 5/10\n",
      "48/48 [==============================] - 0s 3ms/step - loss: 1.5544 - acc: 0.9196\n",
      "Epoch 6/10\n",
      "48/48 [==============================] - 0s 3ms/step - loss: 1.5449 - acc: 0.9268\n",
      "Epoch 7/10\n",
      "48/48 [==============================] - 0s 3ms/step - loss: 1.5376 - acc: 0.9313\n",
      "Epoch 8/10\n",
      "48/48 [==============================] - 0s 3ms/step - loss: 1.5318 - acc: 0.9352\n",
      "Epoch 9/10\n",
      "48/48 [==============================] - 0s 3ms/step - loss: 1.5270 - acc: 0.9392\n",
      "Epoch 10/10\n",
      "48/48 [==============================] - 0s 3ms/step - loss: 1.5229 - acc: 0.9422\n",
      "12/12 [==============================] - 0s 3ms/step - loss: 1.5223 - acc: 0.9435\n"
     ]
    }
   ],
   "source": [
    "# Showing how to create cross-validation folds,\n",
    "# so that the algorithm can be tested properly\n",
    "#\n",
    "def neurnet_classifier():\n",
    "    # create model with each input being flattened\n",
    "    # sequential model is used to indicate the model has a linear stack of layers\n",
    "    # flatten is used to flatten the 28x28 input to 1x784 input\n",
    "    # dense layers are used to have fully interconnected neurons, allowing faster learning\n",
    "    # the number of neurons at the output layer must be equal to the number of classes (10)\n",
    "    # the relu activation function is chosen for the hidden layer because\n",
    "    # it avoids the saturation of its gradient, thus accelerating the convergence of \n",
    "    # gradient descent compared to other activation functions such as sigmoid / tanh\n",
    "    # the sigmoid activation function is chosen to smoothen the output to nearest\n",
    "    # value of either 0 (image not in class) or 1 (image in class)\n",
    "    model = keras.Sequential([\n",
    "    keras.layers.Flatten(input_shape=(28, 28)),\n",
    "    keras.layers.Dense(128, activation='relu'),\n",
    "    keras.layers.Dense(10, activation='sigmoid')\n",
    "    ])\n",
    "    # compile model that compares performance using accuracy as a metric, \n",
    "    # an optimizer based on the gradient descent algorithm such as adam, and \n",
    "    # a sparse categorical cross entropy which computes the crossentropy loss \n",
    "    # between the predictions and true labels, and is specifically designed for \n",
    "    # multi-class problems. from_logits indicates whether the prediction is a logits tensor.\n",
    "    # Using from_logits=True is more numerically stable according to documentation.\n",
    "    model.compile(loss=tf.keras.losses.SparseCategoricalCrossentropy(from_logits=True),\n",
    "                  optimizer='adam',\n",
    "                  metrics=['acc'])\n",
    "    return model\n",
    "#\n",
    "# number of epochs\n",
    "n_epochs   = 10\n",
    "# number of datapoints propagated through the NN to train it each time\n",
    "n_batchsz  = 1000\n",
    "# number of cross validation folds\n",
    "n_cvfolds  = 5\n",
    "# construct a NN classifier using Keras constructor and calling the building function above\n",
    "cf         = KerasClassifier(build_fn=neurnet_classifier, batch_size=n_batchsz, epochs=n_epochs)\n",
    "# perform K-fold cross validation on training data/labels to return the list of accuracies\n",
    "accuracies = cross_val_score(estimator=cf, X=X_train, y=y_train, cv=n_cvfolds)\n",
    "# cross validation (CV) mean accuracy\n",
    "acc_mean   = accuracies.mean()\n",
    "# after cv is run iteratively on a list of values for a certain parameter, the\n",
    "# value resulting in highest mean accuracy (i.e. lowest mean error) is chosen"
   ]
  },
  {
   "cell_type": "code",
   "execution_count": 8,
   "metadata": {
    "colab": {
     "base_uri": "https://localhost:8080/",
     "height": 54
    },
    "colab_type": "code",
    "executionInfo": {
     "elapsed": 23041,
     "status": "ok",
     "timestamp": 1585957552135,
     "user": {
      "displayName": "Mohamed Ait Mhamed Belcaid",
      "photoUrl": "https://lh3.googleusercontent.com/a-/AOh14Gj3YniscJ4BUeKN4EKFcU5pm_IUZqkpUZDbGlgINA=s64",
      "userId": "01130297007541980381"
     },
     "user_tz": 240
    },
    "id": "zU1oeyAfHwj8",
    "outputId": "a770b6e1-c044-4d65-98e2-3349dfd25c31"
   },
   "outputs": [
    {
     "name": "stdout",
     "output_type": "stream",
     "text": [
      "cv accuracies:  [0.94141668 0.93533331 0.93633336 0.93133336 0.94349998]\n",
      "mean of cv accuracies: 93.76%\n"
     ]
    }
   ],
   "source": [
    "# obtained cv accuracies\n",
    "print('cv accuracies: ', accuracies)\n",
    "# cv mean accuracy\n",
    "print('mean of cv accuracies: {0:.2f}%'.format(100*acc_mean))"
   ]
  },
  {
   "cell_type": "markdown",
   "metadata": {
    "colab_type": "text",
    "id": "sHTVC0Jd_JNY"
   },
   "source": [
    "# Test 2: Creating a keras model (a simple network)"
   ]
  },
  {
   "cell_type": "markdown",
   "metadata": {
    "colab_type": "text",
    "id": "59veuiEZCaW4"
   },
   "source": [
    "A Keras model is used to build the neural network, which consists of a set of layers chained one after the other. The neurons in these layers are connected to each other using weighted links, and these weights are adjusted during the training by learning the representation of the training data that propagates throughout the NN.\n",
    "\n",
    "`tf.keras.Sequential` is used to model the neural network as a linear stack of layers. `keras.layers.Flatten` is used to flatten the input images of shape 28x28 to a shape of 1x784. `tf.keras.layers.Dense` is used to build fully interconnected layers in the NN, because they allow faster learning by the NN. The relu activation function is chosen for the hidden layer of size 128 because it avoids the saturation of its gradient, thus accelerating the convergence of gradient descent compared to other activation functions such as tanh and sigmoid. The number of neurons at the output layer must be equal to the total number of classes (10), and the sigmoid activation function is chosen to generate a smoothened probability in \\[0,1\\] interval, which can be converted to a crisp value of 0 if the probability is less than 1/2 to indicate that the image is not in the specified class, or otherwise converted to 1 to indicate that the image is in the specified class.\n",
    "\n",
    "A summary description table of the NN model is generated using `model.summary()`, and a figure of the NN model is illustrated by calling `tf.keras.utils.plot_model` and saved to a local *.png file. The summary and figure confirm the description of the NN model given above."
   ]
  },
  {
   "cell_type": "code",
   "execution_count": 0,
   "metadata": {
    "colab": {},
    "colab_type": "code",
    "id": "9ODch-OFCaW4"
   },
   "outputs": [],
   "source": [
    "# create model with each input being flattened\n",
    "# sequential model is used to indicate the model has a linear stack of layers\n",
    "# flatten is used to flatten the 28x28 input to 1x784 input\n",
    "# dense layers are used to have fully interconnected neurons, allowing faster learning\n",
    "# the number of neurons at the output layer must be equal to the number of classes (10)\n",
    "# the relu activation function is chosen for the hidden layer because\n",
    "# it avoids the saturation of its gradient, thus accelerating the convergence of \n",
    "# gradient descent compared to other activation functions such as sigmoid / tanh\n",
    "# the sigmoid activation function is chosen to smoothen the output to nearest\n",
    "# value of either 0 (image not in class) or 1 (image in class)\n",
    "model = keras.Sequential([\n",
    "    keras.layers.Flatten(input_shape=(28, 28)),\n",
    "    keras.layers.Dense(128, activation='relu'),\n",
    "    keras.layers.Dense(10, activation='sigmoid')\n",
    "])"
   ]
  },
  {
   "cell_type": "code",
   "execution_count": 10,
   "metadata": {
    "colab": {
     "base_uri": "https://localhost:8080/",
     "height": 647
    },
    "colab_type": "code",
    "executionInfo": {
     "elapsed": 23035,
     "status": "ok",
     "timestamp": 1585957552137,
     "user": {
      "displayName": "Mohamed Ait Mhamed Belcaid",
      "photoUrl": "https://lh3.googleusercontent.com/a-/AOh14Gj3YniscJ4BUeKN4EKFcU5pm_IUZqkpUZDbGlgINA=s64",
      "userId": "01130297007541980381"
     },
     "user_tz": 240
    },
    "id": "xJwP8LiINFkd",
    "outputId": "1aa03315-4e21-4f4c-9b5f-c354b586e1ac"
   },
   "outputs": [
    {
     "name": "stdout",
     "output_type": "stream",
     "text": [
      "Model: \"sequential_5\"\n",
      "_________________________________________________________________\n",
      "Layer (type)                 Output Shape              Param #   \n",
      "=================================================================\n",
      "flatten_5 (Flatten)          (None, 784)               0         \n",
      "_________________________________________________________________\n",
      "dense_10 (Dense)             (None, 128)               100480    \n",
      "_________________________________________________________________\n",
      "dense_11 (Dense)             (None, 10)                1290      \n",
      "=================================================================\n",
      "Total params: 101,770\n",
      "Trainable params: 101,770\n",
      "Non-trainable params: 0\n",
      "_________________________________________________________________\n",
      "None\n"
     ]
    },
    {
     "data": {
      "image/png": "[encoded data removed]",
      "text/plain": [
       "<IPython.core.display.Image object>"
      ]
     },
     "execution_count": 10,
     "metadata": {
      "tags": []
     },
     "output_type": "execute_result"
    }
   ],
   "source": [
    "# print a summary for the NN's model\n",
    "print(model.summary())\n",
    "# show a figure of the NN\n",
    "plot_model(model, to_file='model.png')"
   ]
  },
  {
   "cell_type": "markdown",
   "metadata": {
    "colab_type": "text",
    "id": "KGS6DWB8_Jnc"
   },
   "source": [
    "# Test 3: Compiling the model"
   ]
  },
  {
   "cell_type": "markdown",
   "metadata": {
    "colab_type": "text",
    "id": "PU6wgNe-xNr_"
   },
   "source": [
    "The NN model must be compiled next before it is ready for the training phase. This is accomplished by using `model.compile` method in `tf.keras` with three parameters:\n",
    "\n",
    "`metrics` to specify the metric used to evaluate the model's performance, which in this case corresponds to accuracy using value `acc`. Accuracy is chosen to reflect the percentage of images that are correctly classified. Other choices could be made for `metrics` including the mean square error using value `mse`, or other metrics such as `binary_accuracy`, `categorical_accuracy`, `sparse_categorical_accuracy`, `top_k_categorical_accuracy`, `sparse_top_k_categorical_accuracy`, `cosine_proximity`.\n",
    "\n",
    "`loss` to measure the model's accuracy between the predicted labels and the true labels during training. This `loss` function is minimized to drive the model towards a local and possibly global optimum. Loss class `SparseCategoricalCrossentropy` is chosen to compute the cross-entropy loss between the true labels and predictions. This loss function is chosen because it is specifically suitable for multi-class problems. The argument `from_logits` indicates whether the predicted label is a [logits](https://developers.google.com/machine-learning/glossary#logits) tensor. Using `from_logits=True` is more numerically stable according to `tf.keras` documentation. Other choices could be made for `loss` including  `BinaryCrossentropy`, `CategoricalCrossentropy`, `CategoricalHinge`, `CosineSimilarity`, `Hinge`, `Huber`, `KLDivergence`, `LogCosh`, `MeanAbsoluteError`, `MeanAbsolutePercentageError`, `MeanSquaredError`, `MeanSquaredLogarithmicError`, `Poisson`, `Reduction`, `SquaredHinge`, and each of these options implements a standard loss function with the same name that evaluates the loss between the predictions and the true labels.\n",
    "\n",
    "`optimizer` to specify an update policy for the model's parameters based on the loss function values and on the data propagated throughout the NN. Optimizer class `Adam` that implements the Adam algorithm is chosen because this algorithm can handle sparse gradients on noisy data, which is the case in handwritten digits. Other choices could be made for `optimizer` including `Adadelta`, `Adagrad`, `Adamax`, `Ftrl`, `Nadam`, `RMSprop`, `SGD`, and each of these options implements a standard optimization algorithm with the same name, including gradient descent, stochastic optimization, and momentum optimization."
   ]
  },
  {
   "cell_type": "code",
   "execution_count": 0,
   "metadata": {
    "colab": {},
    "colab_type": "code",
    "id": "Lhan11blCaW7"
   },
   "outputs": [],
   "source": [
    "# compile model that compares performance using accuracy as a metric, \n",
    "# an optimizer based on the gradient descent algorithm such as adam, and \n",
    "# a sparse categorical cross entropy which computes the crossentropy loss \n",
    "# between the predictions and true labels, and is specifically designed for \n",
    "# multi-class problems. from_logits indicates whether the prediction is a logits tensor.\n",
    "# Using from_logits=True is more numerically stable according to documentation.\n",
    "model.compile(loss=tf.keras.losses.SparseCategoricalCrossentropy(from_logits=True),\n",
    "              optimizer='adam',\n",
    "              metrics=['acc'])"
   ]
  },
  {
   "cell_type": "markdown",
   "metadata": {
    "colab_type": "text",
    "id": "R5bCBaaq_KqQ"
   },
   "source": [
    "# Test 4: Fitting the model"
   ]
  },
  {
   "cell_type": "markdown",
   "metadata": {
    "colab_type": "text",
    "id": "qKF6uW-BCaW-"
   },
   "source": [
    "Fitting the neural network model is performed by feeding the training data `X_train` and training labels `y_train` to the model using `model.fit` method. The number of epochs is specified using argument `epochs` with a value of 10, which was chosen to obtain a good accuracy. The number of epochs indicates how many times the algorithm should repeatedly go through the training data. The model then learns the representations of the training data and adjusts the NN weights accordingly. The training loss and accuracy metrics resulting from training on `X_train` are displayed by the below code."
   ]
  },
  {
   "cell_type": "code",
   "execution_count": 12,
   "metadata": {
    "colab": {
     "base_uri": "https://localhost:8080/",
     "height": 406
    },
    "colab_type": "code",
    "executionInfo": {
     "elapsed": 58726,
     "status": "ok",
     "timestamp": 1585957587837,
     "user": {
      "displayName": "Mohamed Ait Mhamed Belcaid",
      "photoUrl": "https://lh3.googleusercontent.com/a-/AOh14Gj3YniscJ4BUeKN4EKFcU5pm_IUZqkpUZDbGlgINA=s64",
      "userId": "01130297007541980381"
     },
     "user_tz": 240
    },
    "id": "xvwvpA64CaW_",
    "outputId": "0cf5e35a-e692-40d7-a48b-f0d2d3a0f88e"
   },
   "outputs": [
    {
     "name": "stdout",
     "output_type": "stream",
     "text": [
      "Epoch 1/10\n",
      "1875/1875 [==============================] - 3s 2ms/step - loss: 1.5697 - acc: 0.9089\n",
      "Epoch 2/10\n",
      "1875/1875 [==============================] - 3s 2ms/step - loss: 1.5116 - acc: 0.9502\n",
      "Epoch 3/10\n",
      "1875/1875 [==============================] - 4s 2ms/step - loss: 1.4983 - acc: 0.9632\n",
      "Epoch 4/10\n",
      "1875/1875 [==============================] - 4s 2ms/step - loss: 1.4911 - acc: 0.9699\n",
      "Epoch 5/10\n",
      "1875/1875 [==============================] - 4s 2ms/step - loss: 1.4860 - acc: 0.9745\n",
      "Epoch 6/10\n",
      "1875/1875 [==============================] - 3s 2ms/step - loss: 1.4825 - acc: 0.9780\n",
      "Epoch 7/10\n",
      "1875/1875 [==============================] - 4s 2ms/step - loss: 1.4801 - acc: 0.9811\n",
      "Epoch 8/10\n",
      "1875/1875 [==============================] - 3s 2ms/step - loss: 1.4777 - acc: 0.9826\n",
      "Epoch 9/10\n",
      "1875/1875 [==============================] - 3s 2ms/step - loss: 1.4764 - acc: 0.9840\n",
      "Epoch 10/10\n",
      "1875/1875 [==============================] - 3s 2ms/step - loss: 1.4750 - acc: 0.9852\n"
     ]
    },
    {
     "data": {
      "text/plain": [
       "<tensorflow.python.keras.callbacks.History at 0x7f5792cbad68>"
      ]
     },
     "execution_count": 12,
     "metadata": {
      "tags": []
     },
     "output_type": "execute_result"
    }
   ],
   "source": [
    "# number of epochs\n",
    "n_epochs = 10\n",
    "# fit the model of the training data/labels\n",
    "# verbose=1 is chosen to print a progress bar executing the algorithm\n",
    "# verbose: 0 = silent, 1 = progress bar, 2 = one line per epoch\n",
    "model.fit(X_train, y_train, epochs=n_epochs, verbose=1)"
   ]
  },
  {
   "cell_type": "markdown",
   "metadata": {
    "colab_type": "text",
    "id": "6NSsRtkb_LtE"
   },
   "source": [
    "# Test 5: Evaluating the model on some test data"
   ]
  },
  {
   "cell_type": "markdown",
   "metadata": {
    "colab_type": "text",
    "id": "wCpr6DGyE28h"
   },
   "source": [
    "### Evaluating the fit of model\n",
    "\n",
    "The model's accuracy on the testing data is evaluated using `model.evaluate` to which the testing data `X_test` and true labels `y_test` are fed as arguments. The below code shows accuracy as a metric to evaluate how well the model works, and it shows that the NN model attains a very high accuracy on the testing data. The model's linear outputs are in the form of [logits](https://developers.google.com/machine-learning/glossary#logits). A `tf.keras.layers.Softmax` layer is attached to these logits in order to convert them to probabilities of the datapoint belonging to each class, and the datapoint's predicted class is selected as the class with the highest probability among all classes using `np.argmax`, and this class is assigned as the image's predicted label. The model can now make predictions on the testing data `X_test` using `keras.Model.predict` method, and we can then compare the predicted labels to the true labels `y_test`. `keras.Model.predict` returns a list of lists, where each list corresponds to one image in the batch of data. For example, the first datapoint in the testing data is shown to have matching true and predicted label in the below code.\n",
    "\n",
    "### Experiment using K-fold cross-validation\n",
    "\n",
    "K-fold cross-validation (CV) is used to test a regression or classification algorithm properly, and consists in splitting the training dataset into K-folds, training on K-1 of them and validating on the remaining fold, and switching the validation fold K times. The resulting mean cv accuracy is a less-biased metric of the performance of the algorithm on the training dataset. To create cross-validation folds, a method from `sklearn` called `sklearn.model_selection.cross_val_score` is used to split the dataset, call the neural network constructor by argument `estimator`, specify the desired number of folds by argument `cv`, specify the training data and labels by arguments `X` and `y`, and finally perform cross-validation. The K-fold cross validation choose a number of folds `cv` equal to 5, which results in an accuracy for each run of the cross validation and a mean accuracy for the total cross validation such as shown by the below code. To build the `estimator` parsed as an argument to `sklearn.model_selection.cross_val_score`, the Keras constructor `KerasClassifier` is called. It takes a building function `build_fn` that indicate how the NN model is to be built and compiled, which was implemented in the `neurnet_classifier()` method below. Since `tf.keras` models are optimized to make predictions on a `batch`, which is collection of datapoints processed by the NN at once, a `batch_size` of value 1000 is chosen; it allows processing the training data of size 60,000 faster by the NN while attaining a very good training accuracy. This experiment used cross validation to vary the parameters on the number of epochs and compare the NN's performance on the training data. The number of epochs was varied from 1 to 20, and the below plots shows that the best cross validation accuracy was achieved with `n_epochs = 20`.\n",
    "\n",
    "### Experiment using grid search cross-validation\n",
    "An experiment using grid search cross-validation results to finetune the model's parameters and improve predictions results is run. Using `sklearn.model_selection.GridSearchCV`, several grid search cross validation models are created by generating a model for each tuple of parameters' values specified in list `params`. It  calls the neural network constructor by argument `estimator`, and uses the proposed lists of values for `optimizer`, `number of epochs` and `batch_size`. The scoring metric in this experiment is the mean cv accuracy as specified by argument `scoring`. These models are then fit to the training data using `fit` method, and the best tuple of parameters among all choices is returned by `best_params_` corresponding to the best score returned by `best_score_`. In this manner, the NN model parameters are automatically finetuned and could be fit to changing datasets."
   ]
  },
  {
   "cell_type": "code",
   "execution_count": 13,
   "metadata": {
    "colab": {
     "base_uri": "https://localhost:8080/",
     "height": 73
    },
    "colab_type": "code",
    "executionInfo": {
     "elapsed": 60065,
     "status": "ok",
     "timestamp": 1585957589182,
     "user": {
      "displayName": "Mohamed Ait Mhamed Belcaid",
      "photoUrl": "https://lh3.googleusercontent.com/a-/AOh14Gj3YniscJ4BUeKN4EKFcU5pm_IUZqkpUZDbGlgINA=s64",
      "userId": "01130297007541980381"
     },
     "user_tz": 240
    },
    "id": "VflXLEeECaXC",
    "outputId": "0e19f478-eef4-4aef-9ee6-6b51f8267c72"
   },
   "outputs": [
    {
     "name": "stdout",
     "output_type": "stream",
     "text": [
      "313/313 [==============================] - 1s 2ms/step - loss: 1.4864 - acc: 0.9754\n",
      "Model's testing accuracy = 97.54%\n",
      "example datapoint: true label is 7 and predicted label is 7\n"
     ]
    }
   ],
   "source": [
    "# evaluate the model on the testing data/labels\n",
    "# verbose=1 is chosen to print a progress bar executing the algorithm\n",
    "# verbose: 0 = silent, 1 = progress bar, 2 = one line per epoch\n",
    "_, test_accuracy = model.evaluate(X_test, y_test, verbose=1)\n",
    "print('Model\\'s testing accuracy = {0:.2f}%'.format(test_accuracy * 100))\n",
    "# generate predicted output using softmax, which selects the class with highest\n",
    "# probability among all classes and assigns it as the image's predicted label\n",
    "prediction_model = tf.keras.Sequential([model, tf.keras.layers.Softmax()])\n",
    "# generate predictions for the testing data\n",
    "preds = prediction_model.predict(X_test)\n",
    "# check prediction on a datapoint\n",
    "print('example datapoint: true label is {0:d} and predicted label is {1:d}'.format(y_test[0], np.argmax(preds[0])))"
   ]
  },
  {
   "cell_type": "code",
   "execution_count": null,
   "metadata": {
    "colab": {
     "base_uri": "https://localhost:8080/",
     "height": 1000
    },
    "colab_type": "code",
    "executionInfo": {
     "elapsed": 285174,
     "status": "ok",
     "timestamp": 1585957814294,
     "user": {
      "displayName": "Mohamed Ait Mhamed Belcaid",
      "photoUrl": "https://lh3.googleusercontent.com/a-/AOh14Gj3YniscJ4BUeKN4EKFcU5pm_IUZqkpUZDbGlgINA=s64",
      "userId": "01130297007541980381"
     },
     "user_tz": 240
    },
    "id": "DumtwJZ2AzFx",
    "outputId": "4346c3d3-6492-4025-e947-f5761a423952"
   },
   "outputs": [],
   "source": [
    "# experiment using K-fold cross-validation results to choose a model parameter\n",
    "# in the below case to choose an appropriate number of epochs\n",
    "#\n",
    "def neurnet_classifier():\n",
    "    # create model with each input being flattened\n",
    "    # sequential model is used to indicate the model has a linear stack of layers\n",
    "    # flatten is used to flatten the 28x28 input to 1x784 input\n",
    "    # dense layers are used to have fully interconnected neurons, allowing faster learning\n",
    "    # the number of neurons at the output layer must be equal to the number of classes (10)\n",
    "    # the relu activation function is chosen for the hidden layer because\n",
    "    # it avoids the saturation of its gradient, thus accelerating the convergence of \n",
    "    # gradient descent compared to other activation functions such as sigmoid / tanh\n",
    "    # the sigmoid activation function is chosen to smoothen the output to nearest\n",
    "    # value of either 0 (image not in class) or 1 (image in class)\n",
    "    model = keras.Sequential([\n",
    "    keras.layers.Flatten(input_shape=(28, 28)),\n",
    "    keras.layers.Dense(128, activation='relu'),\n",
    "    keras.layers.Dense(10, activation='sigmoid')\n",
    "    ])\n",
    "    # compile model that compares performance using accuracy as a metric, \n",
    "    # an optimizer based on the gradient descent algorithm such as adam, and \n",
    "    # a sparse categorical cross entropy which computes the crossentropy loss \n",
    "    # between the predictions and true labels, and is specifically designed for \n",
    "    # multi-class problems. from_logits indicates whether the prediction is a logits tensor.\n",
    "    # Using from_logits=True is more numerically stable according to documentation.\n",
    "    model.compile(loss=tf.keras.losses.SparseCategoricalCrossentropy(from_logits=True),\n",
    "                  optimizer='adam',\n",
    "                  metrics=['acc'])\n",
    "    return model\n",
    "#\n",
    "# number of datapoints propagated through the NN to train it each time\n",
    "n_batchsz   = 1000\n",
    "# number of cross validation folds\n",
    "n_cvfolds   = 5\n",
    "# multiple values for parameter: number of epochs\n",
    "epochs_vals = range(1,21)\n",
    "# record mean cv accuracy for each parameter: number of epochs\n",
    "acc_means   = np.empty((len(epochs_vals)))\n",
    "for i in range(len(epochs_vals)):\n",
    "    n_epochs     = epochs_vals[i]\n",
    "    # construct a NN classifier using Keras constructor and calling the building function above\n",
    "    cf           = KerasClassifier(build_fn=neurnet_classifier, batch_size=n_batchsz, epochs=n_epochs)\n",
    "    # perform K-fold cross validation on training data/labels to return the list of accuracies\n",
    "    accuracies   = cross_val_score(estimator=cf, X=X_train, y=y_train, cv=n_cvfolds)\n",
    "    # cross validation (CV) mean accuracy\n",
    "    acc_means[i] = accuracies.mean()\n"
   ]
  },
  {
   "cell_type": "code",
   "execution_count": 15,
   "metadata": {
    "colab": {
     "base_uri": "https://localhost:8080/",
     "height": 298
    },
    "colab_type": "code",
    "executionInfo": {
     "elapsed": 285498,
     "status": "ok",
     "timestamp": 1585957814624,
     "user": {
      "displayName": "Mohamed Ait Mhamed Belcaid",
      "photoUrl": "https://lh3.googleusercontent.com/a-/AOh14Gj3YniscJ4BUeKN4EKFcU5pm_IUZqkpUZDbGlgINA=s64",
      "userId": "01130297007541980381"
     },
     "user_tz": 240
    },
    "id": "APhK0TSMuzaZ",
    "outputId": "f6a60009-3240-4254-8b11-e7cd5c88c525"
   },
   "outputs": [
    {
     "data": {
      "image/png": "[encoded data removed]",
      "text/plain": [
       "<Figure size 432x288 with 1 Axes>"
      ]
     },
     "metadata": {
      "tags": []
     },
     "output_type": "display_data"
    },
    {
     "name": "stdout",
     "output_type": "stream",
     "text": [
      "n_epochs = 20 resulted in highest cv accuracy of 95.27%\n"
     ]
    }
   ],
   "source": [
    "# after cv is run iteratively on a list of values for a certain parameter, the\n",
    "# value resulting in highest mean accuracy (i.e. lowest mean error) is chosen\n",
    "# make a plot of mean cv accuracies vs number of epochs\n",
    "plt.plot(epochs_vals, acc_means)\n",
    "plt.xticks(epochs_vals)\n",
    "plt.xlabel('number of epochs')\n",
    "plt.ylabel('cross-validation accuracy (in %)')\n",
    "plt.show()\n",
    "# best value of n_epochs corresponding to highest cv accuracy (i.e. lowest cv error)\n",
    "i = int(np.argmax(acc_means))\n",
    "print('n_epochs = %d resulted in highest cv accuracy of %.2f%%' % \n",
    "      (epochs_vals[i],100*acc_means[i]))"
   ]
  },
  {
   "cell_type": "code",
   "execution_count": null,
   "metadata": {
    "colab": {
     "base_uri": "https://localhost:8080/",
     "height": 1000
    },
    "colab_type": "code",
    "executionInfo": {
     "elapsed": 487524,
     "status": "ok",
     "timestamp": 1585958016657,
     "user": {
      "displayName": "Mohamed Ait Mhamed Belcaid",
      "photoUrl": "https://lh3.googleusercontent.com/a-/AOh14Gj3YniscJ4BUeKN4EKFcU5pm_IUZqkpUZDbGlgINA=s64",
      "userId": "01130297007541980381"
     },
     "user_tz": 240
    },
    "id": "4lLiVAzhBHnN",
    "outputId": "fdb5e0af-ffdf-47bb-bf50-e1f11acdf246"
   },
   "outputs": [],
   "source": [
    "# experiment using grid search cross-validation results to finetune the model's\n",
    "# parameters and improve predictions results\n",
    "#\n",
    "def neurnet_classifier(optimizer):\n",
    "    # create model with each input being flattened\n",
    "    # sequential model is used to indicate the model has a linear stack of layers\n",
    "    # flatten is used to flatten the 28x28 input to 1x784 input\n",
    "    # dense layers are used to have fully interconnected neurons, allowing faster learning\n",
    "    # the number of neurons at the output layer must be equal to the number of classes (10)\n",
    "    # the relu activation function is chosen for the hidden layer because\n",
    "    # it avoids the saturation of its gradient, thus accelerating the convergence of \n",
    "    # gradient descent compared to other activation functions such as sigmoid / tanh\n",
    "    # the sigmoid activation function is chosen to smoothen the output to nearest\n",
    "    # value of either 0 (image not in class) or 1 (image in class)\n",
    "    model = keras.Sequential([\n",
    "    keras.layers.Flatten(input_shape=(28, 28)),\n",
    "    keras.layers.Dense(128, activation='relu'),\n",
    "    keras.layers.Dense(10, activation='sigmoid')\n",
    "    ])\n",
    "    # compile model that compares performance using accuracy as a metric, \n",
    "    # an optimizer based on the gradient descent algorithm such as adam, and \n",
    "    # a sparse categorical cross entropy which computes the crossentropy loss \n",
    "    # between the predictions and true labels, and is specifically designed for \n",
    "    # multi-class problems. from_logits indicates whether the prediction is a logits tensor.\n",
    "    # Using from_logits=True is more numerically stable according to documentation.\n",
    "    model.compile(loss=tf.keras.losses.SparseCategoricalCrossentropy(from_logits=True),\n",
    "                  optimizer=optimizer,\n",
    "                  metrics=['acc'])\n",
    "    return model\n",
    "#\n",
    "# construct a NN classifier using Keras constructor and calling the building function above\n",
    "cf = KerasClassifier(build_fn=neurnet_classifier)\n",
    "# list of values for multiple parameters in the model to be fed to grid search cv\n",
    "optimizers = ['adadelta', 'adam', 'rmsprop', 'sgd']\n",
    "n_epochs   = [10, 20]\n",
    "n_batchsz  = [1000, 5000]\n",
    "params     = {\n",
    "    'optimizer' : optimizers,\n",
    "    'epochs'    : n_epochs,\n",
    "    'batch_size': n_batchsz}\n",
    "# create grid seach cross validation models by generating a model for each tuple of \n",
    "# parameters' values specified by params. Scoring metric is the mean cv accuracy\n",
    "n_cvfolds  = 5\n",
    "gscv       = GridSearchCV(\n",
    "    estimator  = cf,\n",
    "    param_grid = params,\n",
    "    cv         = n_cvfolds,\n",
    "    scoring    = 'accuracy'\n",
    "    )\n",
    "# fit the set of models to the training data/labels\n",
    "# verbose=1 is chosen to print a progress bar executing the algorithm\n",
    "# verbose: 0 = silent, 1 = progress bar, 2 = one line per epoch\n",
    "gscv       = gscv.fit(X_train, y_train, verbose=1)\n",
    "# use best_params_ method to return the tuple of parameters that resulted in\n",
    "# highest mean cv accuracy\n",
    "best_param = gscv.best_params_\n",
    "# corresponding mean cv accuracy\n",
    "best_acc   = gscv.best_score_\n"
   ]
  },
  {
   "cell_type": "code",
   "execution_count": 17,
   "metadata": {
    "colab": {
     "base_uri": "https://localhost:8080/",
     "height": 54
    },
    "colab_type": "code",
    "executionInfo": {
     "elapsed": 487518,
     "status": "ok",
     "timestamp": 1585958016657,
     "user": {
      "displayName": "Mohamed Ait Mhamed Belcaid",
      "photoUrl": "https://lh3.googleusercontent.com/a-/AOh14Gj3YniscJ4BUeKN4EKFcU5pm_IUZqkpUZDbGlgINA=s64",
      "userId": "01130297007541980381"
     },
     "user_tz": 240
    },
    "id": "pfWtKB1DSZEO",
    "outputId": "49b7a615-6f43-4863-a301-1badaf265387"
   },
   "outputs": [
    {
     "name": "stdout",
     "output_type": "stream",
     "text": [
      "best model parameters: {'batch_size': 1000, 'epochs': 20, 'optimizer': 'rmsprop'}\n",
      "with highest cv accuracy: 95.97%\n"
     ]
    }
   ],
   "source": [
    "# show the best tuples of parameters and the corresponding mean cv accuracy\n",
    "print('best model parameters:', best_param)\n",
    "print('with highest cv accuracy: %.2f%%' % (100*best_acc))"
   ]
  }
 ],
 "metadata": {
  "accelerator": "GPU",
  "colab": {
   "collapsed_sections": [],
   "name": "TF_Keras_classification.ipynb",
   "provenance": [
    {
     "file_id": "https://github.com/tensorflow/docs/blob/master/site/en/tutorials/keras/classification.ipynb",
     "timestamp": 1585152136000
    }
   ]
  },
  "kernelspec": {
   "display_name": "Python 3",
   "language": "python",
   "name": "python3"
  },
  "language_info": {
   "codemirror_mode": {
    "name": "ipython",
    "version": 3
   },
   "file_extension": ".py",
   "mimetype": "text/x-python",
   "name": "python",
   "nbconvert_exporter": "python",
   "pygments_lexer": "ipython3",
   "version": "3.7.4"
  }
 },
 "nbformat": 4,
 "nbformat_minor": 1
}
